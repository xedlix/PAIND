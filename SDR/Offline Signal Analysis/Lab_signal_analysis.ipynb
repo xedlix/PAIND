{
  "cells": [
    {
      "cell_type": "markdown",
      "metadata": {
        "id": "SbARdx7W4pP-"
      },
      "source": [
        "### 1. Reading Samples from a Recorded File"
      ]
    },
    {
      "cell_type": "code",
      "execution_count": null,
      "metadata": {
        "id": "rIYqAOkM4tI2"
      },
      "outputs": [],
      "source": [
        "# reading samples from binary file\n",
        "\n",
        "import numpy as np\n",
        "from array import array\n",
        "from os import stat\n",
        "\n",
        "filename = \"rx.sig\"\n",
        "\n",
        "# read in I/Q samples\n",
        "n_float32 = int(stat(filename).st_size/4)\n",
        "with open(filename,\"rb\") as binary_file:\n",
        "    arr = array('f')\n",
        "    arr.fromfile(binary_file,n_float32)\n",
        "rx = np.array(arr.tolist()[::2])+1j*np.array(arr.tolist()[1::2])\n",
        "rx /= np.amax(np.abs(rx))    # normalize magnitude\n",
        "print(\"signal size:\",rx.shape[0])\n"
      ]
    },
    {
      "cell_type": "markdown",
      "metadata": {
        "id": "mqnX4ZrH4wqT"
      },
      "source": [
        "### 2. Signal Plotting"
      ]
    },
    {
      "cell_type": "markdown",
      "metadata": {
        "id": "kWbv964Qvtzz"
      },
      "source": [
        "* Offline"
      ]
    },
    {
      "cell_type": "code",
      "execution_count": null,
      "metadata": {
        "id": "r5IEbxDc4xK4"
      },
      "outputs": [],
      "source": [
        "# plot small portion of signal\n",
        "\n",
        "import matplotlib.pyplot as plt\n",
        "\n",
        "i_start = 100000\n",
        "i_end = 100500\n",
        "\n",
        "rx_i = np.arange(i_start,i_end)    # array with indices from i_start to i_end\n",
        "\n",
        "# plot real and imaginary parts\n",
        "# ...\n",
        "plt.show()\n",
        "\n",
        "# plot magnitude and phase\n",
        "# ...\n",
        "plt.show()\n"
      ]
    },
    {
      "cell_type": "markdown",
      "metadata": {
        "id": "N7fQj68GmKOW"
      },
      "source": [
        "### 3. Listening to the FM Signal"
      ]
    },
    {
      "cell_type": "markdown",
      "metadata": {
        "id": "humWT2hXvxZy"
      },
      "source": [
        "* Offline"
      ]
    },
    {
      "cell_type": "code",
      "execution_count": null,
      "metadata": {
        "id": "A0vizJEv41cp"
      },
      "outputs": [],
      "source": [
        "# demodulate the FM radio signal\n",
        "\n",
        "import scipy.signal as signal\n",
        "from IPython.display import Audio\n",
        "\n",
        "rxad = np.angle(rx[1:]*np.conj(rx[:-1]))    # get frequency: derivation of phase\n",
        "w = signal.decimate(signal.lfilter([0.46],[1,-0.54],rxad),25)    # lowpass filter\n",
        "plt.plot(w[4000:4020])\n",
        "plt.show()\n",
        "\n",
        "Audio(data=w,rate=8000)\n"
      ]
    },
    {
      "cell_type": "markdown",
      "metadata": {
        "id": "JUhnP4FPvyUa"
      },
      "source": [
        "* Online"
      ]
    },
    {
      "cell_type": "code",
      "execution_count": null,
      "metadata": {
        "id": "5l4zSvEq45ll"
      },
      "outputs": [],
      "source": [
        "# FM receiver, works in combination with lime_to_socket.grc\n",
        "\n",
        "import numpy as np\n",
        "import socket\n",
        "import sounddevice as sd\n",
        "import scipy.signal as signal\n",
        "import queue\n",
        "\n",
        "q = queue.Queue()\n",
        "\n",
        "f_station = int(90.9e6)\n",
        "\n",
        "sample_rate = 200000\n",
        "sample_rate_audio = 8000\n",
        "dec_factor = int(sample_rate/sample_rate_audio)\n",
        "\n",
        "print(\"select RF frequency\",f_station,\"at Lime source\")\n",
        "\n",
        "data = np.array([])\n",
        "def callback(outdata,frames,time,status):\n",
        "    global data\n",
        "    if status:\n",
        "        print(status)\n",
        "    while (len(data)<frames):\n",
        "        x = q.get()\n",
        "        data = np.append(data,x.reshape((len(x),1)))\n",
        "    outdata[:] = data[:frames].reshape((frames,1))\n",
        "    data = data[frames:]\n",
        "\n",
        "with socket.socket(socket.AF_INET,socket.SOCK_STREAM) as s:\n",
        "    s.bind((\"\",52001))\n",
        "    s.listen(1)\n",
        "    conn,addr = s.accept()\n",
        "    with conn:\n",
        "        stream = sd.OutputStream(samplerate=sample_rate_audio,channels=1,callback=callback)\n",
        "        with stream:\n",
        "            rx_bytes = bytearray([])\n",
        "            while (True):\n",
        "                # read samples\n",
        "                while (len(rx_bytes)<200000):\n",
        "                    rx_bytes = rx_bytes+conn.recv(16384)\n",
        "                rx = np.frombuffer(rx_bytes[:200000],dtype=np.complex64)\n",
        "                rxd = np.angle(rx[1:]*np.conj(rx[:-1]))\n",
        "                q.put(signal.decimate(signal.lfilter([0.46],[1,-0.54],rxd),dec_factor))\n",
        "                rx_bytes = rx_bytes[200000:]\n",
        "conn.close()\n"
      ]
    },
    {
      "cell_type": "markdown",
      "metadata": {
        "id": "8qvTyfHZv49z"
      },
      "source": [
        "### 4. FM Broadcast"
      ]
    },
    {
      "cell_type": "markdown",
      "metadata": {
        "id": "Q0ZwzldPv7iL"
      },
      "source": [
        "* Offline"
      ]
    },
    {
      "cell_type": "code",
      "execution_count": null,
      "metadata": {
        "id": "28fLJEwTv01q"
      },
      "outputs": [],
      "source": [
        "# broadcast wav-file over FM\n",
        "# works in combination with file_to_lime.grc !\n",
        "\n",
        "import numpy as np\n",
        "import soundfile as sf\n",
        "import scipy.signal as signal\n",
        "\n",
        "filename = \"fm_s_out.bin\"\n",
        "sample_rate_out = 1e5\n",
        "f_dev = 1.0    # frequency deviation\n",
        "\n",
        "s_in,sample_rate_in = sf.read('male_speech.wav')\n",
        "s_resampled = signal.resample(s_in,int(sample_rate_out/sample_rate_in*len(s_in)))\n",
        "fm_s_out = ...\n",
        "\n",
        "tx = np.zeros((2*len(fm_s_out)),dtype=np.float32)\n",
        "tx[::2] = np.real(fm_s_out)\n",
        "tx[1::2] = np.imag(fm_s_out)\n",
        "data = tx.tobytes()\n",
        "file = open(filename,\"wb\")\n",
        "file.write(bytearray(data))"
      ]
    },
    {
      "cell_type": "markdown",
      "metadata": {
        "id": "E8LUQcNXP6uG"
      },
      "source": [
        "* Online"
      ]
    },
    {
      "cell_type": "code",
      "execution_count": null,
      "metadata": {
        "id": "M-Pjz29zP7Va"
      },
      "outputs": [],
      "source": [
        "# from microphone to sockets\n",
        "# works in combination with socket_to_lime.grc !\n",
        "\n",
        "import numpy as np\n",
        "import scipy.signal as signal\n",
        "import socket\n",
        "import sounddevice as sd\n",
        "import queue\n",
        "\n",
        "sample_rate_in = 8000\n",
        "sample_rate_out = 1e5\n",
        "f_dev = 10.0    # frequency deviation\n",
        "\n",
        "q = queue.Queue()\n",
        "\n",
        "def audio_callback(indata,frames,time,status):\n",
        "    q.put(indata)\n",
        "\n",
        "with socket.socket(socket.AF_INET,socket.SOCK_STREAM) as s:\n",
        "    s.bind((\"\",52001))\n",
        "    s.listen(1)\n",
        "    conn,addr = s.accept()\n",
        "    with conn:\n",
        "        stream = sd.InputStream(device=None,channels=1,samplerate=sample_rate_in,blocksize=1000,callback=audio_callback)\n",
        "        with stream:\n",
        "            while True:\n",
        "                s_in = q.get()\n",
        "                s_resampled = signal.resample(s_in,int(sample_rate_out/sample_rate_in*len(s_in)))\n",
        "                fm_s_out = ...\n",
        "                tx = np.zeros((2*len(fm_s_out)),dtype=np.float32)\n",
        "                tx[::2] = np.real(fm_s_out)\n",
        "                tx[1::2] = np.imag(fm_s_out)\n",
        "                data = tx.tobytes()\n",
        "                conn.sendall(data)"
      ]
    },
    {
      "cell_type": "markdown",
      "metadata": {
        "id": "UoHNU44EmU_l"
      },
      "source": [
        "### 5. Analyzing a Signal from a Nearby Transmitter"
      ]
    },
    {
      "cell_type": "markdown",
      "metadata": {
        "id": "K2PytTlXwGBd"
      },
      "source": [
        "* Offline"
      ]
    },
    {
      "cell_type": "code",
      "execution_count": null,
      "metadata": {
        "id": "6akoOox646Jj"
      },
      "outputs": [],
      "source": [
        "# plot transmitted random signal\n",
        "\n",
        "filename = \"rx_random.sig\"\n",
        "\n",
        "# read in I/Q samples\n",
        "n_float32 = int(stat(filename).st_size/4)\n",
        "with open(filename,\"rb\") as binary_file:\n",
        "    arr = array('f')\n",
        "    arr.fromfile(binary_file,n_float32)\n",
        "rx = np.array(arr.tolist()[::2])+1j*np.array(arr.tolist()[1::2])\n",
        "rx /= np.amax(np.abs(rx))    # normalize magnitude\n",
        "print(\"signal size:\",rx.shape[0])\n",
        "\n",
        "# ...\n",
        "plt.show()\n",
        "# ...\n",
        "plt.show()"
      ]
    }
  ],
  "metadata": {
    "colab": {
      "provenance": []
    },
    "kernelspec": {
      "display_name": "Python 3",
      "language": "python",
      "name": "python3"
    },
    "language_info": {
      "codemirror_mode": {
        "name": "ipython",
        "version": 3
      },
      "file_extension": ".py",
      "mimetype": "text/x-python",
      "name": "python",
      "nbconvert_exporter": "python",
      "pygments_lexer": "ipython3",
      "version": "3.9.9"
    }
  },
  "nbformat": 4,
  "nbformat_minor": 0
}